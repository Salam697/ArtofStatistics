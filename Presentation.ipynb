{
 "cells": [
  {
   "cell_type": "code",
   "execution_count": 1,
   "metadata": {},
   "outputs": [],
   "source": [
    "import matplotlib.pyplot as plt\n",
    "import numpy as np\n",
    "import random"
   ]
  },
  {
   "cell_type": "code",
   "execution_count": 2,
   "metadata": {},
   "outputs": [
    {
     "name": "stdout",
     "output_type": "stream",
     "text": [
      "Data from National Social Attitudes Survey 2010 (NatSal-3)\n",
      "Downloaded under licence from https://github.com/dspiegel29/ArtofStatistics\n",
      "[0, 1, 2, 3, 4, 5, 6, 7, 8, 9, 10, 11, 12, 13, 14, 15, 16, 17, 18, 19, 20, 21, 22, 23, 24, 25, 26, 27, 28, 29, 30, 31, 32, 33, 34, 35, 36, 37, 38, 39, 40, 41, 42, 43, 44, 45, 46, 47, 48, 49, 50, 51, 52, 53, 54, 55, 56, 57, 58, 59, 60, 61, 62, 63, 65, 67, 68, 69, 70, 71, 72, 73, 74, 75, 76, 78, 79, 80, 81, 83, 84, 85, 87, 88, 89, 90, 91, 92, 98, 99, 100, 101, 102, 104, 105, 106, 107, 109, 110, 111, 115, 120, 122, 130, 131, 134, 140, 145, 147, 150, 151, 152, 153, 154, 160, 169, 173, 200, 201, 202, 208, 210, 250, 251, 300, 301, 303, 305, 310, 350, 400, 401, 403, 450, 500, 501, 550] [6, 100, 44, 39, 58, 51, 52, 33, 47, 23, 47, 9, 24, 5, 6, 24, 9, 7, 9, 2, 38, 6, 2, 6, 3, 9, 4, 2, 6, 2, 38, 1, 2, 0, 2, 12, 0, 0, 2, 0, 13, 0, 2, 0, 0, 4, 0, 1, 0, 0, 10, 0, 2, 0, 0, 3, 0, 0, 0, 0, 2, 0, 0, 0, 1, 0, 0, 0, 4, 0, 0, 0, 0, 0, 0, 0, 0, 2, 0, 0, 0, 0, 0, 0, 0, 0, 0, 0, 1, 0, 10, 0, 0, 0, 0, 0, 0, 0, 0, 0, 1, 0, 0, 1, 0, 0, 0, 1, 0, 2, 0, 0, 1, 0, 0, 0, 0, 0, 0, 0, 0, 0, 1, 0, 0, 0, 0, 0, 0, 0, 1, 0, 1, 0, 1, 1, 0] [5, 212, 93, 130, 88, 102, 76, 63, 60, 33, 94, 20, 31, 8, 16, 29, 7, 1, 8, 5, 29, 5, 2, 5, 1, 16, 2, 0, 2, 4, 13, 4, 2, 0, 0, 5, 1, 0, 0, 0, 4, 2, 0, 0, 0, 0, 0, 0, 0, 0, 8, 0, 2, 0, 0, 0, 0, 0, 0, 0, 1, 0, 1, 1, 0, 0, 0, 0, 1, 0, 0, 0, 0, 0, 0, 0, 0, 0, 0, 0, 0, 0, 0, 0, 0, 0, 0, 0, 0, 0, 0, 0, 0, 0, 0, 0, 0, 0, 0, 0, 0, 0, 0, 0, 0, 0, 0, 0, 0, 0, 0, 0, 0, 0, 0, 0, 0, 0, 0, 0, 0, 0, 0, 0, 0, 0, 0, 0, 0, 0, 0, 0, 0, 0, 0, 0, 1]\n"
     ]
    }
   ],
   "source": [
    "print('Data from National Social Attitudes Survey 2010 (NatSal-3)')\n",
    "print('Downloaded under licence from https://github.com/dspiegel29/ArtofStatistics')\n",
    "with open('C:\\\\Users\\\\shoai\\\\Documents\\\\Data_project\\\\ArtofStatistics\\\\02-4-reported-partners\\\\02-4-sexual-partners-counts-x.csv') as source:\n",
    "    headings = source.readline().split(',')\n",
    "    # print(headings)\n",
    "    num_partners = []\n",
    "    men = []\n",
    "    women = []\n",
    "    line = source.readline()\n",
    "    while line:\n",
    "        partners, man, _, woman, _ = line.split(',')\n",
    "        # print(partners, man, woman)\n",
    "        num_partners.append(int(partners))\n",
    "        men.append(int(man))\n",
    "        women.append(int(woman))\n",
    "        line = source.readline()\n",
    "#print(num_partners, men, women)"
   ]
  },
  {
   "cell_type": "code",
   "execution_count": 3,
   "metadata": {},
   "outputs": [],
   "source": [
    "partners = np.array(num_partners)\n",
    "men = np.array(men)\n",
    "women = np.array(women)"
   ]
  },
  {
   "cell_type": "code",
   "execution_count": null,
   "metadata": {},
   "outputs": [],
   "source": []
  },
  {
   "cell_type": "code",
   "execution_count": 8,
   "metadata": {},
   "outputs": [
    {
     "data": {
      "text/plain": [
       "(array([  6., 100.,  44.,  39.,  58.,  51.,  52.,  33.,  47.,  23.,  47.,\n",
       "          9.,  24.,   5.,   6.,  24.,   9.,   7.,   9.,   2.,  38.,   6.,\n",
       "          2.,   6.,   3.,   9.,   4.,   2.,   6.,   2.,  38.,   1.,   2.,\n",
       "          0.,   2.,  12.,   0.,   0.,   2.,   0.,  13.,   0.,   2.,   0.,\n",
       "          0.,   4.,   0.,   1.,   0.,   0.,  10.,   0.]),\n",
       " array([ 0.        ,  0.98076923,  1.96153846,  2.94230769,  3.92307692,\n",
       "         4.90384615,  5.88461538,  6.86538462,  7.84615385,  8.82692308,\n",
       "         9.80769231, 10.78846154, 11.76923077, 12.75      , 13.73076923,\n",
       "        14.71153846, 15.69230769, 16.67307692, 17.65384615, 18.63461538,\n",
       "        19.61538462, 20.59615385, 21.57692308, 22.55769231, 23.53846154,\n",
       "        24.51923077, 25.5       , 26.48076923, 27.46153846, 28.44230769,\n",
       "        29.42307692, 30.40384615, 31.38461538, 32.36538462, 33.34615385,\n",
       "        34.32692308, 35.30769231, 36.28846154, 37.26923077, 38.25      ,\n",
       "        39.23076923, 40.21153846, 41.19230769, 42.17307692, 43.15384615,\n",
       "        44.13461538, 45.11538462, 46.09615385, 47.07692308, 48.05769231,\n",
       "        49.03846154, 50.01923077, 51.        ]),\n",
       " <a list of 52 Patch objects>)"
      ]
     },
     "execution_count": 8,
     "metadata": {},
     "output_type": "execute_result"
    },
    {
     "data": {
      "image/png": "[encoded data removed]",
      "text/plain": [
       "<Figure size 432x288 with 1 Axes>"
      ]
     },
     "metadata": {
      "needs_background": "light"
     },
     "output_type": "display_data"
    }
   ],
   "source": [
    "plt.hist(partners, bins = 52, range = (0, 51), weights = men)"
   ]
  },
  {
   "cell_type": "code",
   "execution_count": 9,
   "metadata": {},
   "outputs": [
    {
     "data": {
      "text/plain": [
       "(array([  6., 100.,  44.,  39.,  58.,  51.,  52.,  33.,  47.,  23.,  47.,\n",
       "          9.,  24.,   5.,   6.,  24.,   9.,   7.,   9.,   2.,  38.,   6.,\n",
       "          2.,   6.,   3.,   9.,   4.,   2.,   6.,   2.,  38.,   1.,   2.,\n",
       "          0.,   2.,  12.,   0.,   0.,   2.,   0.,  13.,   0.,   2.,   0.,\n",
       "          0.,   4.,   0.,   1.,   0.,   0.,  10.,   0.]),\n",
       " array([ 0.        ,  0.98076923,  1.96153846,  2.94230769,  3.92307692,\n",
       "         4.90384615,  5.88461538,  6.86538462,  7.84615385,  8.82692308,\n",
       "         9.80769231, 10.78846154, 11.76923077, 12.75      , 13.73076923,\n",
       "        14.71153846, 15.69230769, 16.67307692, 17.65384615, 18.63461538,\n",
       "        19.61538462, 20.59615385, 21.57692308, 22.55769231, 23.53846154,\n",
       "        24.51923077, 25.5       , 26.48076923, 27.46153846, 28.44230769,\n",
       "        29.42307692, 30.40384615, 31.38461538, 32.36538462, 33.34615385,\n",
       "        34.32692308, 35.30769231, 36.28846154, 37.26923077, 38.25      ,\n",
       "        39.23076923, 40.21153846, 41.19230769, 42.17307692, 43.15384615,\n",
       "        44.13461538, 45.11538462, 46.09615385, 47.07692308, 48.05769231,\n",
       "        49.03846154, 50.01923077, 51.        ]),\n",
       " <a list of 52 Patch objects>)"
      ]
     },
     "execution_count": 9,
     "metadata": {},
     "output_type": "execute_result"
    },
    {
     "data": {
      "image/png": "[encoded data removed]",
      "text/plain": [
       "<Figure size 432x288 with 1 Axes>"
      ]
     },
     "metadata": {
      "needs_background": "light"
     },
     "output_type": "display_data"
    }
   ],
   "source": [
    "plt.hist(partners, bins = 52, range = (0, 51), weights = men)"
   ]
  },
  {
   "cell_type": "code",
   "execution_count": null,
   "metadata": {},
   "outputs": [],
   "source": []
  }
 ],
 "metadata": {
  "kernelspec": {
   "display_name": "Python 3.7.7 64-bit ('MITx': conda)",
   "language": "python",
   "name": "python37764bitmitxconda91c19e3f68e04ab1802996cd4c6265eb"
  },
  "language_info": {
   "codemirror_mode": {
    "name": "ipython",
    "version": 3
   },
   "file_extension": ".py",
   "mimetype": "text/x-python",
   "name": "python",
   "nbconvert_exporter": "python",
   "pygments_lexer": "ipython3",
   "version": "3.7.7"
  }
 },
 "nbformat": 4,
 "nbformat_minor": 4
}
